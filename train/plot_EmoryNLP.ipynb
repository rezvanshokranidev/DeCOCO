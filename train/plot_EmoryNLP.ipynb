{
 "metadata": {
  "language_info": {
   "codemirror_mode": {
    "name": "ipython",
    "version": 3
   },
   "file_extension": ".py",
   "mimetype": "text/x-python",
   "name": "python",
   "nbconvert_exporter": "python",
   "pygments_lexer": "ipython3",
   "version": "3.8.8"
  },
  "orig_nbformat": 2,
  "kernelspec": {
   "name": "python388jvsc74a57bd06288e8ee0bb231585cc8dcec74e0bff950f594e210cc9010e6827e1b4127d790",
   "display_name": "Python 3.8.8 64-bit ('myenv-rezvan': conda)"
  },
  "metadata": {
   "interpreter": {
    "hash": "6288e8ee0bb231585cc8dcec74e0bff950f594e210cc9010e6827e1b4127d790"
   }
  }
 },
 "nbformat": 4,
 "nbformat_minor": 2,
 "cells": [
  {
   "cell_type": "code",
   "execution_count": null,
   "metadata": {},
   "outputs": [],
   "source": [
    "import pickle\n",
    "from pathlib import Path as path\n",
    "dir = path.cwd()"
   ]
  },
  {
   "cell_type": "code",
   "execution_count": null,
   "metadata": {},
   "outputs": [],
   "source": [
    "speakers, labels, sentences, train_ids, test_ids, valid_ids = pickle.load(\n",
    "    open('E:/course/Papers/DeCOCO/featureextraction/emorynlp/emorynlp.pkl', 'rb'))\n",
    "#print(list(chain(*labels.values())))\n"
   ]
  },
  {
   "cell_type": "code",
   "execution_count": null,
   "metadata": {},
   "outputs": [],
   "source": [
    "from collections import Counter\n",
    "dic=labels\n",
    "dic_info={}\n",
    "for i, item in enumerate(dic.items()):\n",
    "    value=item[1]\n",
    "    a=dict(sorted(Counter(value).items()))\n",
    "    b=[a[i] if i in a.keys() else None for i in range(7) ] \n",
    "    dic_info[item[0]]=b\n",
    "keys=dic_info.keys()\n",
    "values=dic_info.values()\n",
    "print(values)\n",
    "\n"
   ]
  },
  {
   "cell_type": "code",
   "execution_count": null,
   "metadata": {},
   "outputs": [],
   "source": []
  },
  {
   "cell_type": "code",
   "execution_count": null,
   "metadata": {},
   "outputs": [],
   "source": [
    "from collections import Counter\n",
    "from itertools import chain\n",
    "a=list(chain(*labels.values()))\n",
    "a=dict(sorted(Counter(a).items()))"
   ]
  },
  {
   "cell_type": "code",
   "execution_count": null,
   "metadata": {},
   "outputs": [],
   "source": [
    "a1=a.keys()\n",
    "print(a1)\n",
    "a2=a.values()\n",
    "#{'Joyful': 0, 'Mad': 1, 'Peaceful': 2, 'Neutral': 3, 'Sad': 4, 'Powerful': 5, 'Scared': 6}\n",
    "a1=['Joyful','Mad','Peaceful','Neutral','Sad','Powerful','Scared']\n",
    "# label index mapping = {'hap':0, 'sad':1, 'neu':2, 'ang':3, 'exc':4, 'fru':5}"
   ]
  },
  {
   "cell_type": "code",
   "execution_count": null,
   "metadata": {},
   "outputs": [],
   "source": [
    "import matplotlib.pyplot as plt\n",
    "import matplotlib\n",
    "\n",
    "\n",
    "plt.bar(a1, a2,color=(.98,.8,.2))\n",
    "plt.xlabel('Emotion')\n",
    "plt.ylabel('Number of sntences')\n",
    "plt.title('EmoryNLP Dataset')\n",
    "\n",
    " \n",
    "plt.show()"
   ]
  },
  {
   "cell_type": "code",
   "execution_count": null,
   "metadata": {},
   "outputs": [],
   "source": []
  }
 ]
}